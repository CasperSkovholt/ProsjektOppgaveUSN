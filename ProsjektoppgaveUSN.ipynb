{
 "cells": [
  {
   "cell_type": "code",
   "execution_count": 69,
   "id": "71932535-a45e-43b8-9ee9-39e3459bcf43",
   "metadata": {},
   "outputs": [],
   "source": [
    "import pandas as pd\n",
    "import numpy as np\n",
    "import matplotlib.pyplot as plt"
   ]
  },
  {
   "cell_type": "markdown",
   "id": "8f9128bc-baa2-4c1c-a548-8005c676d725",
   "metadata": {},
   "source": [
    "## Del a: Lese fil og se struktur"
   ]
  },
  {
   "cell_type": "code",
   "execution_count": 70,
   "id": "69c29fab-e213-4cb3-958c-21f3cb6c4f40",
   "metadata": {},
   "outputs": [
    {
     "name": "stdout",
     "output_type": "stream",
     "text": [
      "Requirement already satisfied: openpyxl in ./anaconda3/lib/python3.11/site-packages (3.1.5)\n",
      "Requirement already satisfied: et-xmlfile in ./anaconda3/lib/python3.11/site-packages (from openpyxl) (1.1.0)\n"
     ]
    },
    {
     "data": {
      "text/plain": [
       "(   Ukedag Klokkeslett  Varighet  Tilfredshet\n",
       " 0  Mandag    08:04:16  00:07:12          NaN\n",
       " 1  Mandag    08:04:53  00:02:49          6.0\n",
       " 2  Mandag    08:06:31  00:08:36          NaN\n",
       " 3  Mandag    08:11:21  00:04:34          NaN\n",
       " 4  Mandag    08:20:46  00:07:38          NaN,\n",
       " Index(['Ukedag', 'Klokkeslett', 'Varighet', 'Tilfredshet'], dtype='object'))"
      ]
     },
     "execution_count": 70,
     "metadata": {},
     "output_type": "execute_result"
    }
   ],
   "source": [
    "!pip install openpyxl\n",
    "\n",
    "df = pd.read_excel(\"support_uke_24.xlsx\", engine='openpyxl')\n",
    "\n",
    "#printer ut de første radene for illustrasjon.\n",
    "df.head(), df.columns"
   ]
  },
  {
   "cell_type": "markdown",
   "id": "0738db63-8e00-45d3-9162-cca11017543b",
   "metadata": {},
   "source": [
    "### Endre kolonne navn og legge inn i array"
   ]
  },
  {
   "cell_type": "code",
   "execution_count": 71,
   "id": "e8835144-b360-4952-a6c3-5df0f3682884",
   "metadata": {},
   "outputs": [
    {
     "name": "stdout",
     "output_type": "stream",
     "text": [
      "['Mandag' 'Mandag' 'Mandag' 'Mandag' 'Mandag'] ['08:04:16' '08:04:53' '08:06:31' '08:11:21' '08:20:46'] ['00:07:12' '00:02:49' '00:08:36' '00:04:34' '00:07:38'] [nan  6. nan nan nan]\n"
     ]
    }
   ],
   "source": [
    "u_dag = df[\"Ukedag\"].to_numpy()\n",
    "kl_slett = df[\"Klokkeslett\"].to_numpy()\n",
    "varighet = df[\"Varighet\"].to_numpy()\n",
    "score = df[\"Tilfredshet\"].to_numpy()\n",
    "\n",
    "print(u_dag[:5], kl_slett[:5], varighet[:5], score[:5])"
   ]
  },
  {
   "cell_type": "markdown",
   "id": "465e2a44-2fb3-4d51-a857-e1b9d52611f1",
   "metadata": {},
   "source": [
    "## Del b: Antall henvendelser per dag for uke 24"
   ]
  },
  {
   "cell_type": "code",
   "execution_count": 72,
   "id": "274f1810-1d2f-4b89-bd64-9a8e95aba1bd",
   "metadata": {},
   "outputs": [
    {
     "data": {
      "image/png": "[encoded data removed]",
      "text/plain": [
       "<Figure size 800x500 with 1 Axes>"
      ]
     },
     "metadata": {},
     "output_type": "display_data"
    }
   ],
   "source": [
    "# Først definerer jeg ønsket rekkefølge.\n",
    "ukedager_rekkefølge = [\"Mandag\", \"Tirsdag\", \"Onsdag\", \"Torsdag\", \"Fredag\"]\n",
    "\n",
    "# Tell antall henvendelser og sorter i ønsket rekkefølge.\n",
    "henvendelser_per_dag = df[\"Ukedag\"].value_counts().reindex(ukedager_rekkefølge)\n",
    "\n",
    "#Plotter søylediagram for antall henvendelser for hver ukedag i uke 24.\n",
    "plt.figure(figsize=(8, 5))\n",
    "henvendelser_per_dag.plot(kind='bar', color='b')\n",
    "plt.title(\"Antall henvendelser for uke 24\")\n",
    "plt.xlabel(\"Ukedag\")\n",
    "plt.ylabel(\"Antall henvendelser\")\n",
    "plt.grid()\n",
    "plt.show()"
   ]
  },
  {
   "cell_type": "markdown",
   "id": "2db0d355-8779-42c8-8cac-7a84ba46f57e",
   "metadata": {},
   "source": [
    "## Del c: Finne korteste og lengste samtaletid"
   ]
  },
  {
   "cell_type": "code",
   "execution_count": 73,
   "id": "2879c6c2-9d76-42d7-9ba1-1d6c8cb4ab1a",
   "metadata": {},
   "outputs": [
    {
     "name": "stdout",
     "output_type": "stream",
     "text": [
      "Korteste samtale varte i 00:00:59 og lengste samtale varte i 00:11:28\n"
     ]
    }
   ],
   "source": [
    "# Finner min max i kolonnen \"varighet\"\n",
    "min_varighet_np = np.min(varighet)\n",
    "max_varighet_np = np.max(varighet)\n",
    "\n",
    "print(f\"Korteste samtale varte i {min_varighet_np} og lengste samtale varte i {max_varighet_np}\")"
   ]
  },
  {
   "cell_type": "markdown",
   "id": "9592af30-c490-4066-9db1-a23c344addaf",
   "metadata": {},
   "source": [
    "## Del d: Beregne gjennomsnittlig samtaletid basert på alle henvendelser"
   ]
  },
  {
   "cell_type": "code",
   "execution_count": 75,
   "id": "25b1263d-eca0-4815-8746-a8850be61397",
   "metadata": {},
   "outputs": [
    {
     "name": "stdout",
     "output_type": "stream",
     "text": [
      "Gjennomsnittlig samtaletid i uke 24 var 0 days 00:06:40.009216589\n"
     ]
    }
   ],
   "source": [
    "# Konverterer kolonnen til timedelta-format\n",
    "df[\"Varighet\"] = pd.to_timedelta(df[\"Varighet\"])\n",
    "\n",
    "# Her velger jeg å bruke Pandas innebygde mean() funksjon for effketvit beregning. \n",
    "gjennomsnitt_varighet = df[\"Varighet\"].mean()\n",
    "\n",
    "print(f\"Gjennomsnittlig samtaletid i uke 24 var {gjennomsnitt_varighet}\")"
   ]
  },
  {
   "cell_type": "markdown",
   "id": "5cedc933-6e23-4fb6-85ba-d68913ab34e5",
   "metadata": {},
   "source": [
    "## Del e: Gruppere henvendesler etter 2-timers bolker"
   ]
  },
  {
   "cell_type": "code",
   "execution_count": null,
   "id": "0778a57d-1974-4705-8f2c-f4ab94e01d37",
   "metadata": {},
   "outputs": [],
   "source": [
    "df[\"Klokkeslett\"] = pd.to_datetime(df[\"Klokkeslett\"], format=\"%H:%M:%S\").dt.time\n",
    "\n",
    "# if-elif-else funksjon for å plassere klokkeslett i riktig tidsintervall\n",
    "def intervall_2_timer(tid):\n",
    "    if tid >= pd.to_datetime(\"08:00:00\").time() and tid < pd.to_datetime(\"10:00:00\").time():\n",
    "        return \"08-10\"\n",
    "    elif tid >= pd.to_datetime(\"10:00:00\").time() and tid < pd.to_datetime(\"12:00:00\").time():\n",
    "        return \"10-12\"\n",
    "    elif tid >= pd.to_datetime(\"12:00:00\").time() and tid < pd.to_datetime(\"14:00:00\").time():\n",
    "        return \"12-14\"\n",
    "    elif tid >= pd.to_datetime(\"14:00:00\").time() and tid < pd.to_datetime(\"16:00:00\").time():\n",
    "        return \"14-16\"\n",
    "    else:\n",
    "        return \"Utenfor vakt\"\n",
    "\n",
    "# Deretter pppretter jeg en ny kolonne med intervallene/bolkene for deretter å telle antall henvendelser per bolk\n",
    "df[\"Tidsintervall\"] = df[\"Klokkeslett\"].apply(intervall_2_timer)\n",
    "henvendelser_per_intervall = df[\"Tidsintervall\"].value_counts().reindex([\"08-10\", \"10-12\", \"12-14\", \"14-16\"], fill_value=0)\n",
    "\n",
    "# Plotte kakediragremmet\n",
    "plt.figure(figsize=(6, 6))\n",
    "henvendelser_per_intervall.plot(kind='pie', autopct='%1.1f%%', startangle=90)\n",
    "plt.title(\"Henvendelser per 2-timers vakt (uke 24)\")\n",
    "plt.ylabel(\"\")\n",
    "plt.tight_layout()\n",
    "plt.show()\n",
    "\n",
    "# Basert på disgrammet er aktiviteten høyest mellom 08-10, nyttig informasjon relatert til bemanning."
   ]
  },
  {
   "cell_type": "markdown",
   "id": "3012953e-56c0-4a65-ae68-58a940abf4c3",
   "metadata": {},
   "source": [
    "## Del f: Beregne NPS"
   ]
  },
  {
   "cell_type": "code",
   "execution_count": null,
   "id": "91202023-1d9b-43a4-8803-ed33316fc605",
   "metadata": {},
   "outputs": [],
   "source": [
    "# Først fjerner jeg rader uten tilfredshetsscore\n",
    "tilfredshet = df[\"Tilfredshet\"].dropna()\n",
    "\n",
    "# Så finner jeg antall i hver kategori\n",
    "antall_negativ = ((tilfredshet >= 1) & (tilfredshet <= 6)).sum()\n",
    "antall_noytral = ((tilfredshet >= 7) & (tilfredshet <= 8)).sum()\n",
    "antall_positiv = ((tilfredshet >= 9) & (tilfredshet <= 10)).sum()\n",
    "antall_total = len(tilfredshet)\n",
    "\n",
    "# Beregner prosentandeler for hver gruppe\n",
    "andel_negativ = (antall_negativ / antall_total) * 100\n",
    "andel_noytral = (antall_noytral / antall_total) * 100\n",
    "andel_positiv = (antall_positiv / antall_total) * 100\n",
    "\n",
    "# Beregner deretter NPS\n",
    "nps_score = andel_positiv - andel_negativ\n",
    "\n",
    "print(\"Oppsummering av kundetilfredshet (uke 24):\\n\")\n",
    "print(f\"Totalt antall svar: {antall_total}\")\n",
    "print(f\"Negative (1–6): {antall_negativ} svar ({andel_negativ:.1f}%)\")\n",
    "print(f\"Nøytrale (7–8): {antall_noytral} svar ({andel_noytral:.1f}%)\")\n",
    "print(f\"Positive (9–10): {antall_positiv} svar ({andel_positiv:.1f}%)\")\n",
    "print(f\"\\nNPS-score: {andel_positiv:.1f}% - {andel_negativ:.1f}% = {nps_score:.1f}\")"
   ]
  },
  {
   "cell_type": "code",
   "execution_count": null,
   "id": "31d79a16-74a4-4b40-9624-386ed6af854d",
   "metadata": {},
   "outputs": [],
   "source": []
  }
 ],
 "metadata": {
  "kernelspec": {
   "display_name": "Python 3 (ipykernel)",
   "language": "python",
   "name": "python3"
  },
  "language_info": {
   "codemirror_mode": {
    "name": "ipython",
    "version": 3
   },
   "file_extension": ".py",
   "mimetype": "text/x-python",
   "name": "python",
   "nbconvert_exporter": "python",
   "pygments_lexer": "ipython3",
   "version": "3.11.5"
  }
 },
 "nbformat": 4,
 "nbformat_minor": 5
}
